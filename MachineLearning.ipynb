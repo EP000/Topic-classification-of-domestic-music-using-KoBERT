{
 "cells": [
  {
   "cell_type": "code",
   "execution_count": 1,
   "id": "9469f6fb",
   "metadata": {},
   "outputs": [
    {
     "name": "stderr",
     "output_type": "stream",
     "text": [
      "Using TensorFlow backend.\n"
     ]
    }
   ],
   "source": [
    "import warnings\n",
    "warnings.filterwarnings(action='ignore') \n",
    "import numpy as np\n",
    "from transformers import BertTokenizer\n",
    "from keras.preprocessing.sequence import pad_sequences\n",
    "# metrics\n",
    "from sklearn.metrics import f1_score\n",
    "from sklearn.metrics import precision_score\n",
    "from sklearn.metrics import recall_score"
   ]
  },
  {
   "cell_type": "code",
   "execution_count": 2,
   "id": "9dcbdcdf",
   "metadata": {},
   "outputs": [],
   "source": [
    "import pickle\n",
    "with open('./data/train.pickle', 'rb') as f:\n",
    "    train = pickle.load(f)\n",
    "\n",
    "with open('./data/val.pickle', 'rb') as f:\n",
    "    val = pickle.load(f)\n",
    "\n",
    "with open('./data/test.pickle', 'rb') as f:\n",
    "    test = pickle.load(f)"
   ]
  },
  {
   "cell_type": "code",
   "execution_count": 3,
   "id": "1f8f27ae",
   "metadata": {},
   "outputs": [],
   "source": [
    "np.random.shuffle(train)\n",
    "np.random.shuffle(val)\n",
    "np.random.shuffle(test)"
   ]
  },
  {
   "cell_type": "markdown",
   "id": "fd33bafa",
   "metadata": {},
   "source": [
    "## input x"
   ]
  },
  {
   "cell_type": "code",
   "execution_count": 5,
   "id": "65c1d09c",
   "metadata": {},
   "outputs": [],
   "source": [
    "train_bert = [ text[0][0] + ' ' + text[0][1] + ' ' + text[0][2] for text in train]\n",
    "val_bert = [ text[0][0] + ' ' + text[0][1] + ' ' + text[0][2]  for text in val]\n",
    "test_bert = [ text[0][0] + ' ' + text[0][1] + ' ' + text[0][2]  for text in test]"
   ]
  },
  {
   "cell_type": "code",
   "execution_count": 6,
   "id": "c832cb36",
   "metadata": {},
   "outputs": [],
   "source": [
    "tokenizer = BertTokenizer.from_pretrained('bert-base-multilingual-cased', do_lower_case = False)\n",
    "\n",
    "tokenizer_train = [tokenizer.tokenize(s) for s in train_bert]\n",
    "tokenizer_val = [tokenizer.tokenize(s) for s in val_bert]\n",
    "tokenizer_test = [tokenizer.tokenize(s) for s in test_bert]"
   ]
  },
  {
   "cell_type": "code",
   "execution_count": 7,
   "id": "8e536b48",
   "metadata": {},
   "outputs": [],
   "source": [
    "word_dic = list(set([t for token in tokenizer_train for t in token]))"
   ]
  },
  {
   "cell_type": "code",
   "execution_count": 8,
   "id": "eb594afd",
   "metadata": {},
   "outputs": [
    {
     "data": {
      "text/plain": [
       "1697"
      ]
     },
     "execution_count": 8,
     "metadata": {},
     "output_type": "execute_result"
    }
   ],
   "source": [
    "len(word_dic)"
   ]
  },
  {
   "cell_type": "code",
   "execution_count": 9,
   "id": "3c4f47a2",
   "metadata": {},
   "outputs": [],
   "source": [
    "i2w = {i+1:word for i, word in enumerate(word_dic)}\n",
    "w2i = {word:i+1 for i, word in enumerate(word_dic)}\n",
    "i2w[0] = '[UNK]'\n",
    "w2i['[UNK]'] = 0"
   ]
  },
  {
   "cell_type": "code",
   "execution_count": 10,
   "id": "bf484a17",
   "metadata": {},
   "outputs": [],
   "source": [
    "train_x = []"
   ]
  },
  {
   "cell_type": "code",
   "execution_count": 11,
   "id": "98a5abab",
   "metadata": {
    "scrolled": true
   },
   "outputs": [],
   "source": [
    "for sentence in train_bert:\n",
    "    token = tokenizer.tokenize(sentence)\n",
    "    bow = np.zeros(len(w2i)+1)\n",
    "    for t in token:\n",
    "        if t in w2i.keys():\n",
    "            bow[w2i[str(t)]] += 1\n",
    "    train_x.append(bow)"
   ]
  },
  {
   "cell_type": "code",
   "execution_count": 12,
   "id": "15f05ee8",
   "metadata": {},
   "outputs": [
    {
     "data": {
      "text/plain": [
       "(11053, 11053)"
      ]
     },
     "execution_count": 12,
     "metadata": {},
     "output_type": "execute_result"
    }
   ],
   "source": [
    "len(train_x), len(train_bert)"
   ]
  },
  {
   "cell_type": "code",
   "execution_count": 13,
   "id": "73a847e3",
   "metadata": {},
   "outputs": [],
   "source": [
    "for i in range(len(train_bert)):\n",
    "    if int(sum(train_x[i])) != len(tokenizer.tokenize(train_bert[i])):\n",
    "        print(train_bert[i])"
   ]
  },
  {
   "cell_type": "code",
   "execution_count": 14,
   "id": "b839771d",
   "metadata": {},
   "outputs": [],
   "source": [
    "# val, test\n",
    "val_x = []\n",
    "test_x = []\n",
    "\n",
    "for sentence in val_bert:\n",
    "    token = tokenizer.tokenize(sentence)\n",
    "    bow = np.zeros(len(w2i)+1)\n",
    "    for t in token:\n",
    "        if t in w2i.keys():\n",
    "            bow[w2i[str(t)]] += 1\n",
    "    val_x.append(bow)\n",
    "    \n",
    "    \n",
    "for sentence in test_bert:\n",
    "    token = tokenizer.tokenize(sentence)\n",
    "    bow = np.zeros(len(w2i)+1)\n",
    "    for t in token:\n",
    "        if t in w2i.keys():\n",
    "            bow[w2i[str(t)]] += 1\n",
    "    test_x.append(bow)"
   ]
  },
  {
   "cell_type": "markdown",
   "id": "550388b4",
   "metadata": {},
   "source": [
    "## input y"
   ]
  },
  {
   "cell_type": "code",
   "execution_count": 16,
   "id": "de9964a7",
   "metadata": {},
   "outputs": [],
   "source": [
    "train_y = [t[1] for t in train]\n",
    "val_y = [t[1] for t in val]\n",
    "test_y = [t[1] for t in test]"
   ]
  },
  {
   "cell_type": "markdown",
   "id": "14974ddd",
   "metadata": {},
   "source": [
    "# model"
   ]
  },
  {
   "cell_type": "markdown",
   "id": "12540d91",
   "metadata": {},
   "source": [
    "## RF"
   ]
  },
  {
   "cell_type": "code",
   "execution_count": 19,
   "id": "28d4bd6f",
   "metadata": {},
   "outputs": [],
   "source": [
    "from sklearn.ensemble import RandomForestClassifier"
   ]
  },
  {
   "cell_type": "code",
   "execution_count": 20,
   "id": "aa100dd5",
   "metadata": {},
   "outputs": [],
   "source": [
    "rf = RandomForestClassifier()"
   ]
  },
  {
   "cell_type": "code",
   "execution_count": 21,
   "id": "2dd8940b",
   "metadata": {
    "scrolled": false
   },
   "outputs": [
    {
     "data": {
      "text/plain": [
       "RandomForestClassifier()"
      ]
     },
     "execution_count": 21,
     "metadata": {},
     "output_type": "execute_result"
    }
   ],
   "source": [
    "rf.fit(train_x, train_y)"
   ]
  },
  {
   "cell_type": "code",
   "execution_count": 22,
   "id": "85d5b6b7",
   "metadata": {},
   "outputs": [],
   "source": [
    "idx_0 = [i for i, y in enumerate(train_y) if y==0] # end\n",
    "idx_1 = [i for i, y in enumerate(train_y) if y==1] # love"
   ]
  },
  {
   "cell_type": "code",
   "execution_count": 23,
   "id": "12230a51",
   "metadata": {
    "scrolled": false
   },
   "outputs": [
    {
     "name": "stdout",
     "output_type": "stream",
     "text": [
      "0.994571609517778\n",
      "0.758125\n",
      "test\n",
      "70.61004381530165\n"
     ]
    }
   ],
   "source": [
    "# Accuracy\n",
    "print(rf.score(train_x, train_y))\n",
    "print(rf.score(val_x, val_y))\n",
    "print('test')\n",
    "print(rf.score(test_x, test_y)*100)"
   ]
  },
  {
   "cell_type": "code",
   "execution_count": 24,
   "id": "f2125824",
   "metadata": {},
   "outputs": [],
   "source": [
    "test_pred = rf.predict(test_x)"
   ]
  },
  {
   "cell_type": "code",
   "execution_count": 25,
   "id": "34b5d2b3",
   "metadata": {},
   "outputs": [
    {
     "name": "stdout",
     "output_type": "stream",
     "text": [
      "73.62869198312237 67.831715210356\n",
      "67.81088082901555 73.64722417427969\n",
      "70.60013486176669 70.61994609164421\n"
     ]
    }
   ],
   "source": [
    "# Precision\n",
    "print(precision_score(test_y, test_pred, pos_label=1)*100, precision_score(test_y, test_pred, pos_label=0)*100)\n",
    "\n",
    "# Recall\n",
    "print(recall_score(test_y, test_pred, pos_label=1)*100, recall_score(test_y, test_pred, pos_label=0)*100)\n",
    "\n",
    "# fl score\n",
    "print(f1_score(test_y, test_pred, pos_label=1)*100, f1_score(test_y, test_pred, pos_label=0)*100)"
   ]
  },
  {
   "cell_type": "markdown",
   "id": "320b67aa",
   "metadata": {},
   "source": [
    "## SVM"
   ]
  },
  {
   "cell_type": "code",
   "execution_count": 27,
   "id": "0ebc4907",
   "metadata": {},
   "outputs": [],
   "source": [
    "from sklearn.svm import SVC"
   ]
  },
  {
   "cell_type": "code",
   "execution_count": 28,
   "id": "e2269eb6",
   "metadata": {},
   "outputs": [],
   "source": [
    "svm = SVC(kernel = 'linear')"
   ]
  },
  {
   "cell_type": "code",
   "execution_count": 29,
   "id": "a71d3ad6",
   "metadata": {},
   "outputs": [
    {
     "data": {
      "text/plain": [
       "SVC(kernel='linear')"
      ]
     },
     "execution_count": 29,
     "metadata": {},
     "output_type": "execute_result"
    }
   ],
   "source": [
    "svm.fit(train_x, train_y)"
   ]
  },
  {
   "cell_type": "code",
   "execution_count": 30,
   "id": "88e30d22",
   "metadata": {},
   "outputs": [
    {
     "name": "stdout",
     "output_type": "stream",
     "text": [
      "0.9258119967429657\n",
      "0.691875\n",
      "test\n",
      "69.19447253117627\n"
     ]
    }
   ],
   "source": [
    "# Accuracy\n",
    "print(svm.score(train_x, train_y))\n",
    "print(svm.score(val_x, val_y))\n",
    "print('test')\n",
    "print(svm.score(test_x, test_y)*100)"
   ]
  },
  {
   "cell_type": "code",
   "execution_count": 31,
   "id": "4fc31379",
   "metadata": {},
   "outputs": [],
   "source": [
    "test_pred = svm.predict(test_x)"
   ]
  },
  {
   "cell_type": "code",
   "execution_count": 32,
   "id": "4047c257",
   "metadata": {},
   "outputs": [
    {
     "name": "stdout",
     "output_type": "stream",
     "text": [
      "71.66437414030261 66.82088565763384\n",
      "67.48704663212435 71.04708362614195\n",
      "69.51300867244828 68.8692098092643\n"
     ]
    }
   ],
   "source": [
    "# Precision\n",
    "print(precision_score(test_y, test_pred, pos_label=1)*100, precision_score(test_y, test_pred, pos_label=0)*100)\n",
    "\n",
    "# Recall\n",
    "print(recall_score(test_y, test_pred, pos_label=1)*100, recall_score(test_y, test_pred, pos_label=0)*100)\n",
    "\n",
    "# fl score\n",
    "print(f1_score(test_y, test_pred, pos_label=1)*100, f1_score(test_y, test_pred, pos_label=0)*100)"
   ]
  },
  {
   "cell_type": "markdown",
   "id": "f672e1a0",
   "metadata": {},
   "source": [
    "## LR"
   ]
  },
  {
   "cell_type": "code",
   "execution_count": 41,
   "id": "a089d3ea",
   "metadata": {},
   "outputs": [],
   "source": [
    "from sklearn.linear_model import LogisticRegression\n",
    "from sklearn import metrics"
   ]
  },
  {
   "cell_type": "code",
   "execution_count": 42,
   "id": "ef03d7fa",
   "metadata": {},
   "outputs": [],
   "source": [
    "lr = LogisticRegression()"
   ]
  },
  {
   "cell_type": "code",
   "execution_count": 43,
   "id": "4bf175d8",
   "metadata": {
    "scrolled": false
   },
   "outputs": [
    {
     "data": {
      "text/plain": [
       "LogisticRegression()"
      ]
     },
     "execution_count": 43,
     "metadata": {},
     "output_type": "execute_result"
    }
   ],
   "source": [
    "lr.fit(train_x, train_y)"
   ]
  },
  {
   "cell_type": "code",
   "execution_count": 47,
   "id": "5fb0cf3f",
   "metadata": {
    "scrolled": true
   },
   "outputs": [
    {
     "name": "stdout",
     "output_type": "stream",
     "text": [
      "0.9135981181579662\n",
      "0.71\n",
      "69.63262554769128\n"
     ]
    }
   ],
   "source": [
    "# Accuracy\n",
    "print(lr.score(train_x, train_y))\n",
    "print(lr.score(val_x, val_y))\n",
    "print(lr.score(test_x, test_y)*100)"
   ]
  },
  {
   "cell_type": "code",
   "execution_count": 45,
   "id": "25fafee8",
   "metadata": {},
   "outputs": [],
   "source": [
    "y_predict = lr.predict(test_x)\n",
    "test_pred = np.transpose([1 if pred > 0.5 else 0 for pred in y_predict])"
   ]
  },
  {
   "cell_type": "code",
   "execution_count": 46,
   "id": "097ee0f0",
   "metadata": {},
   "outputs": [
    {
     "name": "stdout",
     "output_type": "stream",
     "text": [
      "72.24913494809688 67.1484888304862\n",
      "67.61658031088082 71.82009838369642\n",
      "69.85613917698227 69.40577249575551\n"
     ]
    }
   ],
   "source": [
    "# Precision\n",
    "print(precision_score(test_y, test_pred, pos_label=1)*100, precision_score(test_y, test_pred, pos_label=0)*100)\n",
    "\n",
    "# Recall\n",
    "print(recall_score(test_y, test_pred, pos_label=1)*100, recall_score(test_y, test_pred, pos_label=0)*100)\n",
    "\n",
    "# fl score\n",
    "print(f1_score(test_y, test_pred, pos_label=1)*100, f1_score(test_y, test_pred, pos_label=0)*100)"
   ]
  },
  {
   "cell_type": "code",
   "execution_count": null,
   "id": "079291eb",
   "metadata": {},
   "outputs": [],
   "source": []
  }
 ],
 "metadata": {
  "kernelspec": {
   "display_name": "venv_kcc",
   "language": "python",
   "name": "venv_kcc"
  },
  "language_info": {
   "codemirror_mode": {
    "name": "ipython",
    "version": 3
   },
   "file_extension": ".py",
   "mimetype": "text/x-python",
   "name": "python",
   "nbconvert_exporter": "python",
   "pygments_lexer": "ipython3",
   "version": "3.7.5"
  }
 },
 "nbformat": 4,
 "nbformat_minor": 5
}
